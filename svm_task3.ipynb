{
 "cells": [
  {
   "cell_type": "code",
   "execution_count": 1,
   "id": "19c4e06b-29a1-42af-b978-8a081f35cdd8",
   "metadata": {},
   "outputs": [
    {
     "name": "stdout",
     "output_type": "stream",
     "text": [
      "Requirement already satisfied: opencv-python in c:\\users\\admin\\appdata\\local\\programs\\python\\python311\\lib\\site-packages (4.12.0.88)\n",
      "Requirement already satisfied: numpy<2.3.0,>=2 in c:\\users\\admin\\appdata\\local\\programs\\python\\python311\\lib\\site-packages (from opencv-python) (2.2.6)\n"
     ]
    },
    {
     "name": "stderr",
     "output_type": "stream",
     "text": [
      "\n",
      "[notice] A new release of pip is available: 24.0 -> 25.2\n",
      "[notice] To update, run: python.exe -m pip install --upgrade pip\n"
     ]
    }
   ],
   "source": [
    "!pip install opencv-python"
   ]
  },
  {
   "cell_type": "code",
   "execution_count": null,
   "id": "ba9acd11-48b9-4165-8dcb-40d1e7b3d6c8",
   "metadata": {},
   "outputs": [],
   "source": [
    "import sys\n",
    "print(sys.executable)"
   ]
  },
  {
   "cell_type": "code",
   "execution_count": null,
   "id": "400bf4c7-0cc6-4159-8459-b492a913f44f",
   "metadata": {},
   "outputs": [],
   "source": [
    "import sys\n",
    "!{sys.executable} -m pip install opencv-python"
   ]
  },
  {
   "cell_type": "code",
   "execution_count": null,
   "id": "2a9dd943-a62b-47dc-bf2f-8f88a1e0163f",
   "metadata": {},
   "outputs": [],
   "source": [
    "import cv2\n",
    "print(cv2.__version__)\n",
    "import os\n",
    "import numpy as np\n",
    "import cv2\n",
    "from sklearn.model_selection import train_test_split\n",
    "from sklearn.svm import SVC\n",
    "from sklearn.metrics import accuracy_score, classification_report\n",
    "\n",
    "# ----------------------\n",
    "# 🔹 Config\n",
    "IMG_SIZE = 64\n",
    "data_dir = r\"C:\\Users\\Admin\\Desktop\\SkillCraft\\Task3\\training_set\\training_set\"\n",
    "\n",
    "# ----------------------\n",
    "# 🔹 Load Images\n",
    "data, labels = [], []\n",
    "for category in [\"cats\", \"dogs\"]:\n",
    "    folder = os.path.join(data_dir, category)\n",
    "    label = 0 if category==\"cats\" else 1\n",
    "    for img_name in os.listdir(folder):\n",
    "        img_path = os.path.join(folder, img_name)\n",
    "        img = cv2.imread(img_path)\n",
    "        if img is not None:\n",
    "            img = cv2.resize(img, (IMG_SIZE, IMG_SIZE))\n",
    "            data.append(img.flatten())\n",
    "            labels.append(label)\n",
    "\n",
    "X = np.array(data)\n",
    "y = np.array(labels)\n",
    "print(f\"Total samples: {len(X)}, Total labels: {len(y)}\")\n",
    "\n",
    "# ----------------------\n",
    "# 🔹 Split Dataset\n",
    "X_train, X_test, y_train, y_test = train_test_split(X, y, test_size=0.2, random_state=42)\n",
    "print(f\"Training samples: {len(X_train)}, Testing samples: {len(X_test)}\")\n",
    "\n",
    "# ----------------------\n",
    "# 🔹 Train SVM\n",
    "model = SVC(kernel='linear')\n",
    "model.fit(X_train, y_train)\n",
    "\n",
    "# ----------------------\n",
    "# 🔹 Evaluate\n",
    "y_pred = model.predict(X_test)\n",
    "print(\"Accuracy:\", accuracy_score(y_test, y_pred))\n",
    "print(classification_report(y_test, y_pred, target_names=[\"Cat\",\"Dog\"]))\n"
   ]
  },
  {
   "cell_type": "code",
   "execution_count": null,
   "id": "2fad8262-0d8b-4be3-b836-767b9e7d9d65",
   "metadata": {},
   "outputs": [],
   "source": [
    "import os\n",
    "cat_path = os.path.join(data_dir, \"cats\")\n",
    "dog_path = os.path.join(data_dir, \"dogs\")\n",
    "\n",
    "print(\"Cats folder exists?\", os.path.exists(cat_path))\n",
    "print(\"Dogs folder exists?\", os.path.exists(dog_path))\n"
   ]
  },
  {
   "cell_type": "code",
   "execution_count": 3,
   "id": "32fabd5f-23ca-43ac-8f25-6a0ea93b5f7f",
   "metadata": {},
   "outputs": [
    {
     "name": "stdout",
     "output_type": "stream",
     "text": [
      "Cats folder exists? True\n",
      "Dogs folder exists? True\n",
      "Files in cats: ['cat.1.jpg', 'cat.10.jpg', 'cat.100.jpg', 'cat.1000.jpg', 'cat.1001.jpg']\n",
      "Files in dogs: ['dog.1.jpg', 'dog.10.jpg', 'dog.100.jpg', 'dog.1000.jpg', 'dog.1001.jpg']\n"
     ]
    }
   ],
   "source": [
    "import os\n",
    "\n",
    "\n",
    "data_dir = r\"C:\\Users\\Admin\\Desktop\\SkillCraft\\Task3\\training_set\\training_set\"\n",
    "cat_path = os.path.join(data_dir, \"cats\")\n",
    "dog_path = os.path.join(data_dir, \"dogs\")\n",
    "\n",
    "print(\"Cats folder exists?\", os.path.exists(cat_path))\n",
    "print(\"Dogs folder exists?\", os.path.exists(dog_path))\n",
    "print(\"Files in cats:\", os.listdir(cat_path)[:5])\n",
    "print(\"Files in dogs:\", os.listdir(dog_path)[:5])\n"
   ]
  },
  {
   "cell_type": "code",
   "execution_count": null,
   "id": "2b9efe50-0a14-4a42-bedc-828974c6e6b1",
   "metadata": {},
   "outputs": [],
   "source": []
  }
 ],
 "metadata": {
  "kernelspec": {
   "display_name": "Python 3 (ipykernel)",
   "language": "python",
   "name": "python3"
  },
  "language_info": {
   "codemirror_mode": {
    "name": "ipython",
    "version": 3
   },
   "file_extension": ".py",
   "mimetype": "text/x-python",
   "name": "python",
   "nbconvert_exporter": "python",
   "pygments_lexer": "ipython3",
   "version": "3.12.0"
  }
 },
 "nbformat": 4,
 "nbformat_minor": 5
}
